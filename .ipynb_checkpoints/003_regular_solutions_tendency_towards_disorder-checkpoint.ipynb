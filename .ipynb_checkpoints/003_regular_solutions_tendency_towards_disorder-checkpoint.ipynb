{
 "cells": [
  {
   "cell_type": "markdown",
   "metadata": {},
   "source": [
    "In this tutorial, we continue with regular solution theory and learn to calculate the enthalpy of mixing $\\Delta H_m$.\n",
    "\n"
   ]
  },
  {
   "cell_type": "code",
   "execution_count": 68,
   "metadata": {
    "collapsed": false
   },
   "outputs": [
    {
     "name": "stdout",
     "output_type": "stream",
     "text": [
      "m_1, m_2, m_sites = 170 55 225\n"
     ]
    },
    {
     "data": {
      "text/plain": [
       "8.7074661002215569e-22"
      ]
     },
     "execution_count": 68,
     "metadata": {},
     "output_type": "execute_result"
    },
    {
     "data": {
      "image/png": "[encoded data removed]",
      "text/plain": [
       "<matplotlib.figure.Figure at 0x7fec2011a890>"
      ]
     },
     "metadata": {},
     "output_type": "display_data"
    }
   ],
   "source": [
    "%matplotlib inline\n",
    "from __future__ import division\n",
    "import numpy as np\n",
    "import matplotlib.pyplot as plt\n",
    "from random import random\n",
    "\n",
    "lattice_width = 15\n",
    "lattice_height = 15\n",
    "m_sites = lattice_width*lattice_height\n",
    "lattice = np.zeros((lattice_height,lattice_width))\n",
    "\n",
    "m_1 = 0\n",
    "m_2 = 0\n",
    "\n",
    "for i in range(0,lattice_height):\n",
    "    for j in range(0,lattice_width):\n",
    "        random_number = random()\n",
    "        if random_number > 0.25:\n",
    "            lattice[i,j] = 1\n",
    "            m_1 += 1\n",
    "        else:\n",
    "            lattice[i,j] = 2\n",
    "            m_2 += 1\n",
    "print 'm_1, m_2, m_sites =', m_1, m_2, m_sites\n",
    "plt.imshow(lattice,cmap=\"Greys\",interpolation='None')\n",
    "k_boltzmann = 1.38064852e-23 #m2 kg s-2 K-1\n",
    "S_m = -1*k_boltzmann*(m_1*np.log(m_1/m_sites)+m_2*np.log(m_1/m_sites))\n",
    "S_m"
   ]
  },
  {
   "cell_type": "code",
   "execution_count": 111,
   "metadata": {
    "collapsed": false
   },
   "outputs": [
    {
     "data": {
      "text/plain": [
       "<matplotlib.image.AxesImage at 0x7fec1adbbe10>"
      ]
     },
     "execution_count": 111,
     "metadata": {},
     "output_type": "execute_result"
    },
    {
     "data": {
      "image/png": "[encoded data removed]",
      "text/plain": [
       "<matplotlib.figure.Figure at 0x7fec1ae09050>"
      ]
     },
     "metadata": {},
     "output_type": "display_data"
    }
   ],
   "source": [
    "lattice2 = np.zeros((lattice_height,lattice_width))\n",
    "counter = 0\n",
    "for i in range(0,lattice_height):\n",
    "    for j in range(0,lattice_width):\n",
    "        if counter <= m_1:\n",
    "            lattice2[i,j] = 1\n",
    "            counter += 1\n",
    "        else:\n",
    "            lattice2[i,j] = 2\n",
    "            counter += 1\n",
    "plt.imshow(lattice2,cmap=\"Greys\",interpolation='None')"
   ]
  },
  {
   "cell_type": "code",
   "execution_count": 137,
   "metadata": {
    "collapsed": false
   },
   "outputs": [
    {
     "ename": "ImportError",
     "evalue": "cannot import name StaticInteract",
     "output_type": "error",
     "traceback": [
      "\u001b[1;31m---------------------------------------------------------------------------\u001b[0m",
      "\u001b[1;31mImportError\u001b[0m                               Traceback (most recent call last)",
      "\u001b[1;32m<ipython-input-137-d7c43548dbee>\u001b[0m in \u001b[0;36m<module>\u001b[1;34m()\u001b[0m\n\u001b[0;32m      1\u001b[0m \u001b[1;32mfrom\u001b[0m \u001b[0mrandom\u001b[0m \u001b[1;32mimport\u001b[0m \u001b[0mchoice\u001b[0m\u001b[1;33m\u001b[0m\u001b[0m\n\u001b[0;32m      2\u001b[0m \u001b[1;32mfrom\u001b[0m \u001b[0mmatplotlib\u001b[0m \u001b[1;32mimport\u001b[0m \u001b[0manimation\u001b[0m\u001b[1;33m\u001b[0m\u001b[0m\n\u001b[1;32m----> 3\u001b[1;33m \u001b[1;32mfrom\u001b[0m \u001b[0mipywidgets\u001b[0m \u001b[1;32mimport\u001b[0m \u001b[0mStaticInteract\u001b[0m\u001b[1;33m,\u001b[0m \u001b[0mRangeWidget\u001b[0m\u001b[1;33m,\u001b[0m \u001b[0mRadioWidget\u001b[0m\u001b[1;33m\u001b[0m\u001b[0m\n\u001b[0m\u001b[0;32m      4\u001b[0m \u001b[1;33m\u001b[0m\u001b[0m\n\u001b[0;32m      5\u001b[0m \u001b[1;32mdef\u001b[0m \u001b[0manimate\u001b[0m\u001b[1;33m(\u001b[0m\u001b[0mnframe\u001b[0m\u001b[1;33m)\u001b[0m\u001b[1;33m:\u001b[0m\u001b[1;33m\u001b[0m\u001b[0m\n",
      "\u001b[1;31mImportError\u001b[0m: cannot import name StaticInteract"
     ]
    }
   ],
   "source": [
    "from random import choice\n",
    "from matplotlib import animation\n",
    "from ipywidgets import StaticInteract, RangeWidget, RadioWidget\n",
    "\n",
    "def mix(iterations):\n",
    "    iterations = iterations\n",
    "    energy=1\n",
    "    condition = 0\n",
    "    for iterate in range(0,iterations):\n",
    "        random_x_direction = choice([-1,1])\n",
    "        random_y_direction = choice([-1,1])\n",
    "        target_x_coordinate = choice(range(0,lattice_width-1))\n",
    "        target_y_coordinate = choice(range(0,lattice_height-1))\n",
    "        neighbor_x_coordinate = target_x_coordinate + random_x_direction\n",
    "        neighbor_y_coordinate = target_y_coordinate + random_y_direction\n",
    "        target_value = lattice2[target_x_coordinate, target_y_coordinate]\n",
    "        neighbor_value = lattice2[neighbor_x_coordinate, neighbor_y_coordinate]\n",
    "        if energy > condition:\n",
    "            lattice2[target_x_coordinate, target_y_coordinate] = neighbor_value\n",
    "            lattice2[neighbor_x_coordinate, neighbor_y_coordinate] = target_value\n",
    "        else:\n",
    "            pass            \n",
    "    return plt.imshow(lattice2,cmap=\"Greys\",interpolation='None')\n",
    "\n",
    "\n",
    "\n"
   ]
  },
  {
   "cell_type": "code",
   "execution_count": null,
   "metadata": {
    "collapsed": false
   },
   "outputs": [],
   "source": []
  },
  {
   "cell_type": "code",
   "execution_count": null,
   "metadata": {
    "collapsed": true
   },
   "outputs": [],
   "source": []
  }
 ],
 "metadata": {
  "kernelspec": {
   "display_name": "Python 2",
   "language": "python",
   "name": "python2"
  },
  "language_info": {
   "codemirror_mode": {
    "name": "ipython",
    "version": 2
   },
   "file_extension": ".py",
   "mimetype": "text/x-python",
   "name": "python",
   "nbconvert_exporter": "python",
   "pygments_lexer": "ipython2",
   "version": "2.7.6"
  }
 },
 "nbformat": 4,
 "nbformat_minor": 0
}
