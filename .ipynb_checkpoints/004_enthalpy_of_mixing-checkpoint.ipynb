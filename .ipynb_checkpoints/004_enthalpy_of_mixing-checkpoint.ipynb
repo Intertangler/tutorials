{
 "cells": [
  {
   "cell_type": "markdown",
   "metadata": {},
   "source": [
    "In the first tutorial, we looked at how to solve for the entropy of mixing for a regular solution, and then we looked at how a highly ordered system with grouped species tends toward a more uniformly distributed system. \n",
    "\n",
    "Now we will add the effects of enthalpic interaction between the species.\n",
    "\n",
    "In the pure state, interaction energy are between species 1 and itself and the interaction energy between species 2 and itself are, respectively, $w_{11}$ and $w_{22}$. Molecules of the same type attract one another via van der waals forces, so $w_{11}$ and $w_{22}$ are negative.\n",
    "\n",
    "The enthalpy of the pure states are:\n",
    "\n",
    "$H_1 = \\frac{1}{2}m_1 z w_{11}$\n",
    " \n",
    "$H_2 = \\frac{1}{2}m_2 z w_{22}$\n",
    "\n",
    "The 1/2 is because with z interactions (pairs of molecules - eg i with j and j with i) there are double the number of interactions as there are pairs.\n",
    "\n",
    "We assume that the molecules only interact with nearest neighbors. \n",
    "\n",
    "What about cross-species interaction energies though? ie $w_{12}$\n",
    "\n",
    "The enthalpy of the mixture is the sum of the number of species 1 interactions and species 2 interactions, each divided by two again due to the redundancy issue of counting both \n",
    "\n"
   ]
  },
  {
   "cell_type": "code",
   "execution_count": 26,
   "metadata": {
    "collapsed": false
   },
   "outputs": [],
   "source": [
    "%matplotlib inline\n",
    "from __future__ import division\n",
    "import numpy as np\n",
    "import matplotlib.pyplot as plt\n",
    "from random import random\n",
    "\n",
    "def box(lattice_width, lattice_height,m_1_probability):\n",
    "    lattice_width = lattice_width\n",
    "    lattice_height = lattice_height\n",
    "    m_sites = lattice_width*lattice_height \n",
    "    lattice = np.zeros((lattice_height,lattice_width))\n",
    "    m_1_probability = m_1_probability\n",
    "\n",
    "    m_1 = 0\n",
    "    m_2 = 0\n",
    "\n",
    "    for i in range(0,lattice_height):\n",
    "        for j in range(0,lattice_width):\n",
    "            random_number = random()\n",
    "            if random_number > m_1_probability:\n",
    "                lattice[i,j] = 1\n",
    "                m_1 += 1\n",
    "            else:\n",
    "                lattice[i,j] = 2\n",
    "                m_2 += 1\n",
    "    print 'm_1, m_2, m_sites =', m_1, m_2, m_sites\n",
    "    plt.imshow(lattice,cmap=\"Greys\",interpolation='None')\n",
    "    return m_1, m_2, m_sites, lattice\n"
   ]
  },
  {
   "cell_type": "code",
   "execution_count": 27,
   "metadata": {
    "collapsed": false
   },
   "outputs": [],
   "source": [
    "def enthalpy(w_11,w_12,w_22,lattice,m_1,m_2,m_sites):\n",
    "    H_mix = 0.\n",
    "    w_12 = w_12\n",
    "    w_22 = w_22\n",
    "    w_11 = w_11\n",
    "    lattice_height = len(lattice[0,:])\n",
    "    lattice_width = len(lattice[:,0])\n",
    "    for i in range(0,lattice_height):\n",
    "        for j in range(0,lattice_width):                \n",
    "            #find the nearest neighbors - use modulo to enforce periodic bound. cond.\n",
    "            #examine edge to the right of current cell\n",
    "            if lattice[((i+0)%lattice_height),((j+1)%lattice_width)] == lattice[i,j]: \n",
    "                if lattice[i,j] == 2:\n",
    "                    H_mix += w_22\n",
    "                else:\n",
    "                    H_mix += w_11\n",
    "            else: \n",
    "                H_mix += w_12\n",
    "            #examine edge beneath the current cell\n",
    "            if lattice[((i-1)%lattice_height),((j+0)%lattice_width)] == lattice[i,j]:\n",
    "                if lattice[i,j] == 2:\n",
    "                    H_mix += w_22\n",
    "                else:\n",
    "                    H_mix += w_11\n",
    "            else: \n",
    "                H_mix += w_12\n",
    "    x_1 = m_1/m_sites\n",
    "    x_2 = m_2/m_sites\n",
    "    z = 4.\n",
    "    H_mix_analytical = (0.5)*(m_1*(z*x_1*w_11 + z*x_2*w_12) + m_2*(z*x_1*w_12 + z*x_2*w_22))\n",
    "    return H_mix_analytical, H_mix"
   ]
  },
  {
   "cell_type": "code",
   "execution_count": 37,
   "metadata": {
    "collapsed": false
   },
   "outputs": [
    {
     "name": "stdout",
     "output_type": "stream",
     "text": [
      "m_1, m_2, m_sites = 335 65 400\n",
      "-1102.25 -1100.0\n"
     ]
    },
    {
     "data": {
      "image/png": "[encoded data removed]",
      "text/plain": [
       "<matplotlib.figure.Figure at 0x7f65f5099750>"
      ]
     },
     "metadata": {},
     "output_type": "display_data"
    }
   ],
   "source": [
    "lattice_height_mixed = 10\n",
    "lattice_width_mixed = 10\n",
    "m_1_probability = 0.2\n",
    "w_12 = -2\n",
    "w_22 = -5\n",
    "w_11 = -1\n",
    "m_1_mixed, m_2_mixed, m_sites_mixed, lattice_mixed = box(lattice_width,lattice_height,m_1_probability)\n",
    "h_mixed_analytical, h_mixed_numerical = enthalpy(w_11,w_12,w_22,lattice_mixed,m_1_mixed, m_2_mixed, m_sites_mixed)\n",
    "print h_mixed_analytical, h_mixed_numerical"
   ]
  },
  {
   "cell_type": "code",
   "execution_count": 39,
   "metadata": {
    "collapsed": false
   },
   "outputs": [
    {
     "name": "stdout",
     "output_type": "stream",
     "text": [
      "m_1, m_2, m_sites = 0 278 278\n"
     ]
    },
    {
     "ename": "IndexError",
     "evalue": "index 19 is out of bounds for axis 0 with size 1",
     "output_type": "error",
     "traceback": [
      "\u001b[1;31m---------------------------------------------------------------------------\u001b[0m",
      "\u001b[1;31mIndexError\u001b[0m                                Traceback (most recent call last)",
      "\u001b[1;32m<ipython-input-39-ff04b580e8a0>\u001b[0m in \u001b[0;36m<module>\u001b[1;34m()\u001b[0m\n\u001b[0;32m      2\u001b[0m \u001b[0mlattice_width_pure1\u001b[0m \u001b[1;33m=\u001b[0m \u001b[0mm_1\u001b[0m\u001b[1;33m\u001b[0m\u001b[0m\n\u001b[0;32m      3\u001b[0m \u001b[0mm_1_pure1\u001b[0m\u001b[1;33m,\u001b[0m \u001b[0mm_2_pure1\u001b[0m\u001b[1;33m,\u001b[0m \u001b[0mm_sites_pure1\u001b[0m\u001b[1;33m,\u001b[0m \u001b[0mlattice_pure1\u001b[0m \u001b[1;33m=\u001b[0m \u001b[0mbox\u001b[0m\u001b[1;33m(\u001b[0m\u001b[0mlattice_width_pure1\u001b[0m\u001b[1;33m,\u001b[0m\u001b[0mlattice_height_pure1\u001b[0m\u001b[1;33m,\u001b[0m\u001b[1;36m1\u001b[0m\u001b[1;33m)\u001b[0m\u001b[1;33m\u001b[0m\u001b[0m\n\u001b[1;32m----> 4\u001b[1;33m \u001b[0mh_pure1_analytical\u001b[0m\u001b[1;33m,\u001b[0m \u001b[0mh_pure1_numerical\u001b[0m \u001b[1;33m=\u001b[0m \u001b[0menthalpy\u001b[0m\u001b[1;33m(\u001b[0m\u001b[0mw_11\u001b[0m\u001b[1;33m,\u001b[0m\u001b[0mw_12\u001b[0m\u001b[1;33m,\u001b[0m\u001b[0mw_22\u001b[0m\u001b[1;33m,\u001b[0m\u001b[0mlattice_pure1\u001b[0m\u001b[1;33m,\u001b[0m\u001b[0mm_1_pure1\u001b[0m\u001b[1;33m,\u001b[0m \u001b[0mm_2_pure1\u001b[0m\u001b[1;33m,\u001b[0m \u001b[0mm_sites_pure1\u001b[0m\u001b[1;33m)\u001b[0m\u001b[1;33m\u001b[0m\u001b[0m\n\u001b[0m\u001b[0;32m      5\u001b[0m \u001b[1;32mprint\u001b[0m \u001b[0mh_mixed_analytical\u001b[0m\u001b[1;33m,\u001b[0m \u001b[0mh_mixed_numerical\u001b[0m\u001b[1;33m\u001b[0m\u001b[0m\n",
      "\u001b[1;32m<ipython-input-27-988f453984a2>\u001b[0m in \u001b[0;36menthalpy\u001b[1;34m(w_11, w_12, w_22, lattice, m_1, m_2, m_sites)\u001b[0m\n\u001b[0;32m     16\u001b[0m                 \u001b[0mH_mix\u001b[0m \u001b[1;33m+=\u001b[0m \u001b[0mw_12\u001b[0m\u001b[1;33m\u001b[0m\u001b[0m\n\u001b[0;32m     17\u001b[0m             \u001b[1;31m#examine edge beneath the current cell\u001b[0m\u001b[1;33m\u001b[0m\u001b[1;33m\u001b[0m\u001b[0m\n\u001b[1;32m---> 18\u001b[1;33m             \u001b[1;32mif\u001b[0m \u001b[0mlattice\u001b[0m\u001b[1;33m[\u001b[0m\u001b[1;33m(\u001b[0m\u001b[1;33m(\u001b[0m\u001b[0mi\u001b[0m\u001b[1;33m-\u001b[0m\u001b[1;36m1\u001b[0m\u001b[1;33m)\u001b[0m\u001b[1;33m%\u001b[0m\u001b[0mlattice_height\u001b[0m\u001b[1;33m)\u001b[0m\u001b[1;33m,\u001b[0m\u001b[1;33m(\u001b[0m\u001b[1;33m(\u001b[0m\u001b[0mj\u001b[0m\u001b[1;33m+\u001b[0m\u001b[1;36m0\u001b[0m\u001b[1;33m)\u001b[0m\u001b[1;33m%\u001b[0m\u001b[0mlattice_width\u001b[0m\u001b[1;33m)\u001b[0m\u001b[1;33m]\u001b[0m \u001b[1;33m==\u001b[0m \u001b[0mlattice\u001b[0m\u001b[1;33m[\u001b[0m\u001b[0mi\u001b[0m\u001b[1;33m,\u001b[0m\u001b[0mj\u001b[0m\u001b[1;33m]\u001b[0m\u001b[1;33m:\u001b[0m\u001b[1;33m\u001b[0m\u001b[0m\n\u001b[0m\u001b[0;32m     19\u001b[0m                 \u001b[1;32mif\u001b[0m \u001b[0mlattice\u001b[0m\u001b[1;33m[\u001b[0m\u001b[0mi\u001b[0m\u001b[1;33m,\u001b[0m\u001b[0mj\u001b[0m\u001b[1;33m]\u001b[0m \u001b[1;33m==\u001b[0m \u001b[1;36m2\u001b[0m\u001b[1;33m:\u001b[0m\u001b[1;33m\u001b[0m\u001b[0m\n\u001b[0;32m     20\u001b[0m                     \u001b[0mH_mix\u001b[0m \u001b[1;33m+=\u001b[0m \u001b[0mw_22\u001b[0m\u001b[1;33m\u001b[0m\u001b[0m\n",
      "\u001b[1;31mIndexError\u001b[0m: index 19 is out of bounds for axis 0 with size 1"
     ]
    },
    {
     "data": {
      "image/png": "[encoded data removed]",
      "text/plain": [
       "<matplotlib.figure.Figure at 0x7f65f5055350>"
      ]
     },
     "metadata": {},
     "output_type": "display_data"
    }
   ],
   "source": [
    "lattice_height_pure1 = 1\n",
    "lattice_width_pure1 = m_1\n",
    "m_1_pure1, m_2_pure1, m_sites_pure1, lattice_pure1 = box(lattice_width_pure1,lattice_height_pure1,1)\n",
    "h_pure1_analytical, h_pure1_numerical = enthalpy(w_11,w_12,w_22,lattice_pure1,m_1_pure1, m_2_pure1, m_sites_pure1)\n",
    "print h_mixed_analytical, h_mixed_numerical"
   ]
  },
  {
   "cell_type": "code",
   "execution_count": null,
   "metadata": {
    "collapsed": true
   },
   "outputs": [],
   "source": []
  }
 ],
 "metadata": {
  "kernelspec": {
   "display_name": "Python 2",
   "language": "python",
   "name": "python2"
  },
  "language_info": {
   "codemirror_mode": {
    "name": "ipython",
    "version": 2
   },
   "file_extension": ".py",
   "mimetype": "text/x-python",
   "name": "python",
   "nbconvert_exporter": "python",
   "pygments_lexer": "ipython2",
   "version": "2.7.6"
  }
 },
 "nbformat": 4,
 "nbformat_minor": 0
}
