{
 "cells": [
  {
   "cell_type": "markdown",
   "metadata": {},
   "source": [
    "#Regular Solutions Part II - Enthalpy of Mixing"
   ]
  },
  {
   "cell_type": "markdown",
   "metadata": {},
   "source": [
    "##Introduction\n",
    "In the first tutorial, we looked at how to solve for the entropy of mixing for a regular solution, and then we looked at how a highly ordered system with and uneven distribution of two species tends toward a more uniform/mixed distributed system. \n",
    "\n",
    "Now we will add the effects of enthalpic interaction between the species.\n",
    "\n",
    "In the pure state, interaction energy are between species 1 and itself and the interaction energy between species 2 and itself are, respectively, $w_{11}$ and $w_{22}$. Molecules of the same type attract one another via van der waals forces, so $w_{11}$ and $w_{22}$ are negative.\n",
    "\n",
    "The enthalpy of the pure states are:\n",
    "\n",
    "$H_1 = \\frac{1}{2}m_1 z w_{11}$\n",
    " \n",
    "$H_2 = \\frac{1}{2}m_2 z w_{22}$\n",
    "\n",
    "The 1/2 is because with z interactions (pairs of molecules - eg i with j and j with i) there are double the number of interactions as there are pairs.\n",
    "\n",
    "We assume that the molecules only interact with nearest neighbors. \n",
    "\n",
    "What about cross-species interaction energies though? ie $w_{12}$\n",
    "\n",
    "The enthalpy of the mixture is the sum of the number of species 1 interactions and species 2 interactions, each divided by two again due to the double counting of interactions when considering each particle.\n",
    "\n",
    "Let's look at this with two approaches. In the first approach, we will render a lattice of species 1 and species 2 particles, and algorithmically count the interaction energies in the lattice. In the second, quicker approach, we will use the analytical expression for enthalpy which should give us a similar value as with the brute force counting method.\n"
   ]
  },
  {
   "cell_type": "markdown",
   "metadata": {},
   "source": [
    "##Brute Force Lattice Counting\n",
    "###1. A simple lattice-generating function:\n",
    "Below is a simple function for creating a lattice of two species randomly mixed and with ratios of amounts of the two species defined by a chosen probability m_1_probability. The function also returns counts of the numbers of each particle m_1 and m_2 in addition to the lattice itself. "
   ]
  },
  {
   "cell_type": "code",
   "execution_count": 110,
   "metadata": {
    "collapsed": false
   },
   "outputs": [],
   "source": [
    "%matplotlib inline\n",
    "from __future__ import division\n",
    "import numpy as np\n",
    "import matplotlib.pyplot as plt\n",
    "from random import random\n",
    "\n",
    "def box(lattice_width, lattice_height,m_1_probability): # define a new function that builds a lattice w 2 species\n",
    "    lattice_width = lattice_width\n",
    "    lattice_height = lattice_height\n",
    "    m_sites = lattice_width*lattice_height \n",
    "    lattice = np.zeros((lattice_height,lattice_width))\n",
    "    m_2_probability = m_1_probability\n",
    "\n",
    "    m_1 = 0.\n",
    "    m_2 = 0.\n",
    "\n",
    "    for i in range(0,lattice_height): \n",
    "        for j in range(0,lattice_width):\n",
    "            random_number = random()\n",
    "            if random_number > m_2_probability:\n",
    "                lattice[i,j] = 1\n",
    "                m_1 += 1.\n",
    "            else:\n",
    "                lattice[i,j] = 2\n",
    "                m_2 += 1.\n",
    "    print 'm_1, m_2, m_sites =', m_1, m_2, m_sites\n",
    "    \n",
    "    return m_1, m_2, m_sites, lattice # output the lattice matrix itself and the counts of species 1, 2, and total\n"
   ]
  },
  {
   "cell_type": "markdown",
   "metadata": {},
   "source": [
    "###2. Enthalpy-quantifying Function\n",
    "The function below accepts the three interaction energies and a lattice as inputs. The double for-loop goes through each site of the lattice and checks the species of the site's nearest neighbors. \n",
    "\n",
    "Technical note: the use of the modulo operator \"%\" is used to enforce a periodic boundary condition - ie the edge on the right side of the lattice neighbors the edge of the left side and likewise for the top and bottom. This allows every site to have 4 neighbors and avoids issues caused by boundary effects. The modulo operator in this case works by \"resetting\" the index to 0 when calling an index that exceeds the limits of the lattice size. Eg if the lattice has width 40 (with 0 being the first and 39 being the last sites), then 39 % 40 = 39 returning the original site coordinate if we're not exceeding the boundaries whereas 40 % 40 = 0, returning us to the beginning of the lattice. \n",
    "\n",
    "As the algorithm walks through the lattice, it checks only two nearest neighbor interactions, that of the site beneath and the site to the right of the site in question. Why? Because this will account for all interactions in the lattice after we go through the entire thing. If we did not do this, we would double-count interactions when examining a site and then in the next iteration examining its nearest neighbor.\n",
    "\n",
    "The enthalpy of mixing is found by adding up all the interaction enthalpies.\n",
    "\n",
    "For comparison, the analytical expression for the enthalpy of mixing is also included."
   ]
  },
  {
   "cell_type": "code",
   "execution_count": 111,
   "metadata": {
    "collapsed": false
   },
   "outputs": [],
   "source": [
    "def enthalpy(w_11,w_12,w_22,lattice,m_1,m_2,m_sites):\n",
    "    H_mix = 0.\n",
    "    lattice = lattice\n",
    "    w_12 = w_12\n",
    "    w_22 = w_22\n",
    "    w_11 = w_11\n",
    "    lattice_height = len(lattice[:,0])\n",
    "    lattice_width = len(lattice[0,:])\n",
    "    for i in range(0,lattice_height):\n",
    "        for j in range(0,lattice_width):                \n",
    "            #find the nearest neighbors - use modulo to enforce periodic bound. cond.\n",
    "            #examine edge to the right of current cell\n",
    "            if lattice[((i+0)%lattice_height),((j+1)%lattice_width)] == lattice[i,j]: \n",
    "                if lattice[i,j] == 2:\n",
    "                    H_mix += w_22\n",
    "                else:\n",
    "                    H_mix += w_11\n",
    "            else: \n",
    "                H_mix += w_12\n",
    "            #examine edge beneath the current cell\n",
    "            if lattice[((i-1)%lattice_height),((j+0)%lattice_width)] == lattice[i,j]:\n",
    "                if lattice[i,j] == 2:\n",
    "                    H_mix += w_22\n",
    "                else:\n",
    "                    H_mix += w_11\n",
    "            else: \n",
    "                H_mix += w_12\n",
    "    x_1 = m_1/m_sites\n",
    "    x_2 = m_2/m_sites\n",
    "    z = 4.\n",
    "    H_mix_analytical = .5*(m_1*z*(x_1*w_11 + x_2*w_12) + m_2*z*(x_1*w_12 + x_2*w_22))\n",
    "    h_1_analytical = 0.5*m_1*z*w_11\n",
    "    h_2_analytical = 0.5*m_2*z*w_22\n",
    "    return H_mix_analytical, H_mix, h_1_analytical, h_2_analytical"
   ]
  },
  {
   "cell_type": "markdown",
   "metadata": {},
   "source": [
    "###3. Running the functions to compute the mixture enthalpy\n",
    "Below I've gone ahead and defined lattice dimensions, interaction enthalpies, and run the \"box\" function to generate the lattice shown in the plot. Then after running the enthalpy function, we can see values for the enthalpy of mixing both from the analytical expression and the algorithmic counting method. \n",
    "\n",
    "One way to think of the analytical expression is as an average interaction enthalpy multiplied by the number of interactions. The two methods give us somewhat different answers. In fact, the analytical version is an approximation that assumes perfect mixing and does not account for abnormality in the distribution. Take another look at the expression and you will see that the number of 1-1, 2-2, and 1-2 borders are not explicitly counted. Thus the error is bigger with smaller lattices where the distribution is less likely to reflect that of a perfectly uniform distribution. Information is lost in the expression, but since we are usually dealing with solutions with large numbers of molecules, thinking in terms of fractions of species is useful because in practice we do not know the exact positions and numbers of individual molecules."
   ]
  },
  {
   "cell_type": "code",
   "execution_count": 127,
   "metadata": {
    "collapsed": false
   },
   "outputs": [
    {
     "name": "stdout",
     "output_type": "stream",
     "text": [
      "m_1, m_2, m_sites = 1980.0 520.0 2500\n",
      "-8568.96 -8547.0\n",
      "-------\n",
      "-7920.0 -3120.0\n"
     ]
    },
    {
     "data": {
      "image/png": "[encoded data removed]",
      "text/plain": [
       "<matplotlib.figure.Figure at 0xbc23e48>"
      ]
     },
     "metadata": {},
     "output_type": "display_data"
    }
   ],
   "source": [
    "lattice_height_mixed = 50\n",
    "lattice_width_mixed = 50\n",
    "m_2_probability = 0.2\n",
    "w_12 = -1.\n",
    "w_22 = -3.\n",
    "w_11 = -2.\n",
    "m_1_mixed, m_2_mixed, m_sites_mixed, lattice_mixed = box(lattice_width_mixed,lattice_height_mixed,m_2_probability)\n",
    "plt.imshow(lattice_mixed,cmap=\"Greys\",interpolation='None')\n",
    "h_mixed_analytical, h_mixed_numerical, h_1_analytical, h_2_analytical = enthalpy(w_11,w_12,w_22,lattice_mixed,m_1_mixed, m_2_mixed, m_sites_mixed)\n",
    "print h_mixed_analytical, h_mixed_numerical\n",
    "print '-------'\n",
    "print h_1_analytical, h_2_analytical"
   ]
  },
  {
   "cell_type": "markdown",
   "metadata": {},
   "source": [
    "###4. Subtracting pure species enthalpies to get the enthalpy of mixing\n",
    "I've added calculations of the pure species enthalpies calculated both analytically and numerically from the numbers of species generated in the previous code. The enthalpy of mixing is then the difference between the mixture enthalpy and the pure species."
   ]
  },
  {
   "cell_type": "code",
   "execution_count": 122,
   "metadata": {
    "collapsed": false
   },
   "outputs": [
    {
     "name": "stdout",
     "output_type": "stream",
     "text": [
      "m_1, m_2, m_sites = 2012.0 0.0 2012\n",
      "-8048.0 -8048.0\n"
     ]
    }
   ],
   "source": [
    "lattice_height_pure1 = 1\n",
    "lattice_width_pure1 = int(m_1_mixed)\n",
    "m_1_pure1, m_2_pure1, m_sites_pure1, lattice_pure1 = box(lattice_width_pure1,lattice_height_pure1,0)\n",
    "h_pure1_analytical, h_pure1_numerical,h_1_analytical, h_2_analytical = enthalpy(w_11,w_12,w_22,lattice_pure1,m_1_pure1, m_2_pure1, m_sites_pure1)\n",
    "print h_pure1_analytical, h_pure1_numerical"
   ]
  },
  {
   "cell_type": "code",
   "execution_count": 114,
   "metadata": {
    "collapsed": false
   },
   "outputs": [
    {
     "name": "stdout",
     "output_type": "stream",
     "text": [
      "m_1, m_2, m_sites = 0.0 17.0 17\n",
      "-102.0 -102.0\n"
     ]
    }
   ],
   "source": [
    "lattice_height_pure2 = 1\n",
    "lattice_width_pure2 = int(m_2_mixed)\n",
    "m_1_pure2, m_2_pure2, m_sites_pure2, lattice_pure2 = box(lattice_width_pure2,lattice_height_pure2,1)\n",
    "h_pure2_analytical, h_pure2_numerical,h_1_analytical, h_2_analytical = enthalpy(w_11,w_12,w_22,lattice_pure2,m_1_pure2, m_2_pure2, m_sites_pure2)\n",
    "print h_pure2_analytical, h_pure2_numerical"
   ]
  },
  {
   "cell_type": "code",
   "execution_count": 130,
   "metadata": {
    "collapsed": false
   },
   "outputs": [
    {
     "name": "stdout",
     "output_type": "stream",
     "text": [
      "-418.96\n"
     ]
    }
   ],
   "source": [
    "print h_mixed_analytical - h_pure1_analytical - h_pure2_analytical"
   ]
  },
  {
   "cell_type": "code",
   "execution_count": 129,
   "metadata": {
    "collapsed": false
   },
   "outputs": [
    {
     "name": "stdout",
     "output_type": "stream",
     "text": [
      "-397.0\n"
     ]
    }
   ],
   "source": [
    "print h_mixed_numerical - h_pure1_numerical - h_pure2_numerical"
   ]
  }
 ],
 "metadata": {
  "kernelspec": {
   "display_name": "Python 2",
   "language": "python",
   "name": "python2"
  },
  "language_info": {
   "codemirror_mode": {
    "name": "ipython",
    "version": 2
   },
   "file_extension": ".py",
   "mimetype": "text/x-python",
   "name": "python",
   "nbconvert_exporter": "python",
   "pygments_lexer": "ipython2",
   "version": "2.7.9"
  }
 },
 "nbformat": 4,
 "nbformat_minor": 0
}
