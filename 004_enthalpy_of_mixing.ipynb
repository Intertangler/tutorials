{
 "cells": [
  {
   "cell_type": "markdown",
   "metadata": {},
   "source": [
    "In the first tutorial, we looked at how to solve for the entropy of mixing for a regular solution, and then we looked at how a highly ordered system with grouped species tends toward a more uniformly distributed system. \n",
    "\n",
    "Now we will add the effects of enthalpic interaction between the species.\n",
    "\n",
    "In the pure state, interaction energy are between species 1 and itself and the interaction energy between species 2 and itself are, respectively, $w_{11}$ and $w_{22}$. Molecules of the same type attract one another via van der waals forces, so $w_{11}$ and $w_{22}$ are negative.\n",
    "\n",
    "The enthalpy of the pure states are:\n",
    "\n",
    "$H_1 = \\frac{1}{2}m_1 z w_{11}$\n",
    " \n",
    "$H_2 = \\frac{1}{2}m_2 z w_{22}$\n",
    "\n",
    "The 1/2 is because with z interactions (pairs of molecules - eg i with j and j with i) there are double the number of interactions as there are pairs.\n",
    "\n",
    "We assume that the molecules only interact with nearest neighbors. \n",
    "\n",
    "What about cross-species interaction energies though? ie $w_{12}$\n",
    "\n",
    "The enthalpy of the mixture is the sum of the number of species 1 interactions and species 2 interactions, each divided by two again due to the double counting of interactions when considering each particle.\n",
    "\n",
    "Let's look at this with two approaches. In the first approach, we will render a lattice of species 1 and species 2 particles, and algorithmically count the interaction energies in the lattice. In the second, quicker approach, we will use the analytical expression for enthalpy which should give us a similar value as with the brute force counting method.\n"
   ]
  },
  {
   "cell_type": "code",
   "execution_count": 93,
   "metadata": {
    "collapsed": false
   },
   "outputs": [],
   "source": [
    "%matplotlib inline\n",
    "from __future__ import division\n",
    "import numpy as np\n",
    "import matplotlib.pyplot as plt\n",
    "from random import random\n",
    "\n",
    "def box(lattice_width, lattice_height,m_1_probability): # define a new function that builds a lattice w 2 species\n",
    "    lattice_width = lattice_width\n",
    "    lattice_height = lattice_height\n",
    "    m_sites = lattice_width*lattice_height \n",
    "    lattice = np.zeros((lattice_height,lattice_width))\n",
    "    m_2_probability = m_1_probability\n",
    "\n",
    "    m_1 = 0\n",
    "    m_2 = 0\n",
    "\n",
    "    for i in range(0,lattice_height): \n",
    "        for j in range(0,lattice_width):\n",
    "            random_number = random()\n",
    "            if random_number > m_2_probability:\n",
    "                lattice[i,j] = 1\n",
    "                m_1 += 1\n",
    "            else:\n",
    "                lattice[i,j] = 2\n",
    "                m_2 += 1\n",
    "    print 'm_1, m_2, m_sites =', m_1, m_2, m_sites\n",
    "    \n",
    "    return m_1, m_2, m_sites, lattice # output the lattice matrix itself and the counts of species 1, 2, and total\n"
   ]
  },
  {
   "cell_type": "code",
   "execution_count": 94,
   "metadata": {
    "collapsed": false
   },
   "outputs": [],
   "source": [
    "def enthalpy(w_11,w_12,w_22,lattice,m_1,m_2,m_sites):\n",
    "    H_mix = 0.\n",
    "    lattice = lattice\n",
    "    w_12 = w_12\n",
    "    w_22 = w_22\n",
    "    w_11 = w_11\n",
    "    lattice_height = len(lattice[:,0])\n",
    "    lattice_width = len(lattice[0,:])\n",
    "    for i in range(0,lattice_height):\n",
    "        for j in range(0,lattice_width):                \n",
    "            #find the nearest neighbors - use modulo to enforce periodic bound. cond.\n",
    "            #examine edge to the right of current cell\n",
    "            if lattice[((i+0)%lattice_height),((j+1)%lattice_width)] == lattice[i,j]: \n",
    "                if lattice[i,j] == 2:\n",
    "                    H_mix += w_22\n",
    "                else:\n",
    "                    H_mix += w_11\n",
    "            else: \n",
    "                H_mix += w_12\n",
    "            #examine edge beneath the current cell\n",
    "            if lattice[((i-1)%lattice_height),((j+0)%lattice_width)] == lattice[i,j]:\n",
    "                if lattice[i,j] == 2:\n",
    "                    H_mix += w_22\n",
    "                else:\n",
    "                    H_mix += w_11\n",
    "            else: \n",
    "                H_mix += w_12\n",
    "    x_1 = m_1/m_sites\n",
    "    x_2 = m_2/m_sites\n",
    "    z = 4.\n",
    "    H_mix_analytical = (0.5)*(m_1*(z*x_1*w_11 + z*x_2*w_12) + m_2*(z*x_1*w_12 + z*x_2*w_22))\n",
    "    h_1_analytical = 0.5*m_1*z*w_11\n",
    "    h_2_analytical = 0.5*m_2*z*w_22\n",
    "    return H_mix_analytical, H_mix, h_1_analytical, h_2_analytical"
   ]
  },
  {
   "cell_type": "code",
   "execution_count": 95,
   "metadata": {
    "collapsed": false
   },
   "outputs": [
    {
     "name": "stdout",
     "output_type": "stream",
     "text": [
      "m_1, m_2, m_sites = 302 98 400\n",
      "-1288.04 -1268.0 -604.0 -980.0\n"
     ]
    },
    {
     "data": {
      "image/png": "[encoded data removed]",
      "text/plain": [
       "<matplotlib.figure.Figure at 0x7f65f5331e90>"
      ]
     },
     "metadata": {},
     "output_type": "display_data"
    }
   ],
   "source": [
    "lattice_height_mixed = 10\n",
    "lattice_width_mixed = 10\n",
    "m_2_probability = 0.2\n",
    "w_12 = -2.\n",
    "w_22 = -5.\n",
    "w_11 = -1.\n",
    "m_1_mixed, m_2_mixed, m_sites_mixed, lattice_mixed = box(lattice_width,lattice_height,m_2_probability)\n",
    "plt.imshow(lattice_mixed,cmap=\"Greys\",interpolation='None')\n",
    "h_mixed_analytical, h_mixed_numerical, h_1_analytical, h_2_analytical = enthalpy(w_11,w_12,w_22,lattice_mixed,m_1_mixed, m_2_mixed, m_sites_mixed)\n",
    "print h_mixed_analytical, h_mixed_numerical, h_1_analytical, h_2_analytical"
   ]
  },
  {
   "cell_type": "code",
   "execution_count": 96,
   "metadata": {
    "collapsed": false
   },
   "outputs": [
    {
     "name": "stdout",
     "output_type": "stream",
     "text": [
      "m_1, m_2, m_sites = 278 0 278\n",
      "-556.0 -556.0\n"
     ]
    }
   ],
   "source": [
    "lattice_height_pure1 = 1\n",
    "lattice_width_pure1 = m_1\n",
    "m_1_pure1, m_2_pure1, m_sites_pure1, lattice_pure1 = box(lattice_width_pure1,lattice_height_pure1,0)\n",
    "h_pure1_analytical, h_pure1_numerical,h_1_analytical, h_2_analytical = enthalpy(w_11,w_12,w_22,lattice_pure1,m_1_pure1, m_2_pure1, m_sites_pure1)\n",
    "print h_pure1_analytical, h_pure1_numerical"
   ]
  },
  {
   "cell_type": "code",
   "execution_count": 97,
   "metadata": {
    "collapsed": false
   },
   "outputs": [
    {
     "name": "stdout",
     "output_type": "stream",
     "text": [
      "m_1, m_2, m_sites = 0 122 122\n",
      "-1220.0 -1220.0\n"
     ]
    }
   ],
   "source": [
    "lattice_height_pure2 = 1\n",
    "lattice_width_pure2 = m_2\n",
    "m_1_pure2, m_2_pure2, m_sites_pure2, lattice_pure2 = box(lattice_width_pure2,lattice_height_pure2,1)\n",
    "h_pure2_analytical, h_pure2_numerical,h_1_analytical, h_2_analytical = enthalpy(w_11,w_12,w_22,lattice_pure2,m_1_pure2, m_2_pure2, m_sites_pure2)\n",
    "print h_pure2_analytical, h_pure2_numerical"
   ]
  },
  {
   "cell_type": "code",
   "execution_count": 98,
   "metadata": {
    "collapsed": false
   },
   "outputs": [
    {
     "data": {
      "text/plain": [
       "487.96000000000004"
      ]
     },
     "execution_count": 98,
     "metadata": {},
     "output_type": "execute_result"
    }
   ],
   "source": [
    "h_mixed_analytical - h_pure1_analytical - h_pure2_analytical"
   ]
  },
  {
   "cell_type": "code",
   "execution_count": 99,
   "metadata": {
    "collapsed": false
   },
   "outputs": [
    {
     "data": {
      "text/plain": [
       "508.0"
      ]
     },
     "execution_count": 99,
     "metadata": {},
     "output_type": "execute_result"
    }
   ],
   "source": [
    "h_mixed_numerical - h_pure1_numerical - h_pure2_numerical"
   ]
  },
  {
   "cell_type": "code",
   "execution_count": null,
   "metadata": {
    "collapsed": true
   },
   "outputs": [],
   "source": []
  }
 ],
 "metadata": {
  "kernelspec": {
   "display_name": "Python 2",
   "language": "python",
   "name": "python2"
  },
  "language_info": {
   "codemirror_mode": {
    "name": "ipython",
    "version": 2
   },
   "file_extension": ".py",
   "mimetype": "text/x-python",
   "name": "python",
   "nbconvert_exporter": "python",
   "pygments_lexer": "ipython2",
   "version": "2.7.6"
  }
 },
 "nbformat": 4,
 "nbformat_minor": 0
}
