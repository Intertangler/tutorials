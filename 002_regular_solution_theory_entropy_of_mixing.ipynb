{
 "cells": [
  {
   "cell_type": "markdown",
   "metadata": {},
   "source": [
    "This is a tutorial for modeling the thermodynamics of mixing and closely follows material from Chapter 7 of Polymer Chemistry by P.C. Hiemenz and T.P. Lodge, 2007.\n",
    "\n",
    "Regular solution theory is a simple statistical model useful for providing an expression for the free energy of mixing of two components.\n",
    "\n",
    "To get the entropy of mixing, we use the Boltzmann definition of entropy:\n",
    "\n",
    "$S = kln\\Omega$\n",
    "\n",
    "where $\\Omega$ is the total number of possible configurations that a system can adopt. \n",
    "\n",
    "For our regular solution model, we will use a square lattice with sites that can be occupied by either species 1 or species 2, the total number of lattice sites is $m$, the number of species 1-occupied sites is $m_1$ and likewise for species 2 and $m_2$."
   ]
  },
  {
   "cell_type": "code",
   "execution_count": 2,
   "metadata": {
    "collapsed": false
   },
   "outputs": [
    {
     "data": {
      "text/plain": [
       "<matplotlib.image.AxesImage at 0x7f7416fa20d0>"
      ]
     },
     "execution_count": 2,
     "metadata": {},
     "output_type": "execute_result"
    },
    {
     "data": {
      "image/png": "[encoded data removed]",
      "text/plain": [
       "<matplotlib.figure.Figure at 0x7f7417074490>"
      ]
     },
     "metadata": {},
     "output_type": "display_data"
    }
   ],
   "source": [
    "%matplotlib inline\n",
    "import numpy as np\n",
    "import matplotlib.pyplot as plt\n",
    "from random import random\n",
    "\n",
    "lattice_width = 50\n",
    "lattice_height = 50\n",
    "m_sites = lattice_width*lattice_height\n",
    "lattice = np.zeros((lattice_height,lattice_width))\n",
    "\n",
    "m_1 = 0\n",
    "m_2 = 0\n",
    "\n",
    "for i in range(0,lattice_height):\n",
    "    for j in range(0,lattice_width):\n",
    "        random_number = random()\n",
    "        if random_number > 0.2:\n",
    "            lattice[i,j] = 1\n",
    "            m_1 += 1\n",
    "        else:\n",
    "            lattice[i,j] = 2\n",
    "            m_2 += 1\n",
    "            \n",
    "plt.imshow(lattice,cmap=\"Greys\",interpolation='None')"
   ]
  },
  {
   "cell_type": "markdown",
   "metadata": {},
   "source": [
    "I've added a counter for $m_1$ and $m_2$ for our randomly generated example."
   ]
  },
  {
   "cell_type": "code",
   "execution_count": 3,
   "metadata": {
    "collapsed": false
   },
   "outputs": [
    {
     "data": {
      "text/plain": [
       "(2031, 469)"
      ]
     },
     "execution_count": 3,
     "metadata": {},
     "output_type": "execute_result"
    }
   ],
   "source": [
    "m_1, m_2"
   ]
  },
  {
   "cell_type": "markdown",
   "metadata": {},
   "source": [
    "In the above code, we see that our lattice has been randomly populated with species 1 and species 2.\n",
    "\n",
    "The number of configurations of 2 types of indistinguishable objects is given by the formula:\n",
    "\n",
    "$\\frac{n!}{k!(n-k)!} = \\binom{n}{k}$\n",
    "\n",
    "...so the number of configurations is:\n",
    "\n",
    "$\\Omega = \\frac{m!}{m_1!m_2!}$\n",
    "\n",
    "We can attempt to solve this expression using python's math.factorial function:"
   ]
  },
  {
   "cell_type": "code",
   "execution_count": 4,
   "metadata": {
    "collapsed": false
   },
   "outputs": [
    {
     "ename": "OverflowError",
     "evalue": "integer division result too large for a float",
     "output_type": "error",
     "traceback": [
      "\u001b[1;31m---------------------------------------------------------------------------\u001b[0m",
      "\u001b[1;31mOverflowError\u001b[0m                             Traceback (most recent call last)",
      "\u001b[1;32m<ipython-input-4-fcd4e0511a03>\u001b[0m in \u001b[0;36m<module>\u001b[1;34m()\u001b[0m\n\u001b[0;32m      1\u001b[0m \u001b[1;32mfrom\u001b[0m \u001b[0mmath\u001b[0m \u001b[1;32mimport\u001b[0m \u001b[0mfactorial\u001b[0m\u001b[1;33m\u001b[0m\u001b[0m\n\u001b[0;32m      2\u001b[0m \u001b[1;32mfrom\u001b[0m \u001b[0m__future__\u001b[0m \u001b[1;32mimport\u001b[0m \u001b[0mdivision\u001b[0m\u001b[1;33m\u001b[0m\u001b[0m\n\u001b[1;32m----> 3\u001b[1;33m \u001b[0momega\u001b[0m \u001b[1;33m=\u001b[0m \u001b[0mfactorial\u001b[0m\u001b[1;33m(\u001b[0m\u001b[0mm_sites\u001b[0m\u001b[1;33m)\u001b[0m\u001b[1;33m/\u001b[0m\u001b[1;33m(\u001b[0m\u001b[0mfactorial\u001b[0m\u001b[1;33m(\u001b[0m\u001b[0mm_1\u001b[0m\u001b[1;33m)\u001b[0m\u001b[1;33m*\u001b[0m\u001b[0mfactorial\u001b[0m\u001b[1;33m(\u001b[0m\u001b[0mm_2\u001b[0m\u001b[1;33m)\u001b[0m\u001b[1;33m)\u001b[0m\u001b[1;33m\u001b[0m\u001b[0m\n\u001b[0m\u001b[0;32m      4\u001b[0m \u001b[0momega\u001b[0m\u001b[1;33m\u001b[0m\u001b[0m\n",
      "\u001b[1;31mOverflowError\u001b[0m: integer division result too large for a float"
     ]
    }
   ],
   "source": [
    "from math import factorial\n",
    "from __future__ import division\n",
    "omega = factorial(m_sites)/(factorial(m_1)*factorial(m_2))\n",
    "omega"
   ]
  },
  {
   "cell_type": "markdown",
   "metadata": {},
   "source": [
    "However, we encounter problems with massive numbers generated by the factorials. \n",
    "\n",
    "Alternatively, we can use Stirlings approximation:\n",
    "\n",
    "$lnN! = NlnN - N$ for large N\n",
    "\n",
    "...combined with Boltzmann's entropy ($S=kln\\Omega$) to avoid dealing with factorials:\n",
    "\n",
    "$\n",
    "S_m = k(lnm! - lnm_1! - lnm_2!) \\\\$\n",
    "\n",
    "$= k(mlnm - m - m_1lnm_1 + m_1 - m_2lnm_2 + m_2) \\\\$\n",
    "\n",
    "$=k((m_1 + m_2)ln(m_1 + m_2) - m_1lnm_1 - m_2lnm_2) \\\\$\n",
    "\n",
    "$=-k(m_1(lnm_1 - lnm) + m_2(lnm_2 - lnm))$\n",
    "\n",
    "note that $\\frac{m_1}{m} = x_1$ or the volumetric fraction (and also number or mole fraction in the case of equal-sized molecules as we have here.) This is important, because it will allow us to scale this model up for more practical scenarios.\n",
    "\n",
    "Thus\n",
    "\n",
    "$S_m = -k(m_1lnx_1 + m_2lnx_2)$"
   ]
  },
  {
   "cell_type": "code",
   "execution_count": 5,
   "metadata": {
    "collapsed": false
   },
   "outputs": [
    {
     "data": {
      "text/plain": [
       "7.1711729526089153e-21"
      ]
     },
     "execution_count": 5,
     "metadata": {},
     "output_type": "execute_result"
    }
   ],
   "source": [
    "k_boltzmann = 1.38064852e-23 #m2 kg s-2 K-1\n",
    "S_m = -1*k_boltzmann*(m_1*np.log(m_1/m_sites)+m_2*np.log(m_1/m_sites))\n",
    "S_m"
   ]
  },
  {
   "cell_type": "markdown",
   "metadata": {
    "collapsed": false
   },
   "source": [
    "Note here that the configurational entropy of each of the pure components is 0 since individual particles are indistinguishable from each other and nothing can be gained from rearranging them.\n",
    "\n",
    "So what we actually calculated is the change in entropy going from unmixed to mixed states or:\n",
    "\n",
    "$\\Delta S_m = S_m - S_1 - S_2$\n"
   ]
  },
  {
   "cell_type": "code",
   "execution_count": null,
   "metadata": {
    "collapsed": true
   },
   "outputs": [],
   "source": []
  },
  {
   "cell_type": "code",
   "execution_count": null,
   "metadata": {
    "collapsed": true
   },
   "outputs": [],
   "source": []
  }
 ],
 "metadata": {
  "kernelspec": {
   "display_name": "Python 2",
   "language": "python",
   "name": "python2"
  },
  "language_info": {
   "codemirror_mode": {
    "name": "ipython",
    "version": 2
   },
   "file_extension": ".py",
   "mimetype": "text/x-python",
   "name": "python",
   "nbconvert_exporter": "python",
   "pygments_lexer": "ipython2",
   "version": "2.7.6"
  }
 },
 "nbformat": 4,
 "nbformat_minor": 0
}
