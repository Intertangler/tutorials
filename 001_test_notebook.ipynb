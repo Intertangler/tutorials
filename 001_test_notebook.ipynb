{
 "cells": [
  {
   "cell_type": "markdown",
   "metadata": {},
   "source": [
    "I am testing out the Jupyter notebook "
   ]
  },
  {
   "cell_type": "code",
   "execution_count": 1,
   "metadata": {
    "collapsed": true
   },
   "outputs": [],
   "source": [
    "import numpy as np\n",
    "import matplotlib.pyplot as plt\n",
    "\n",
    "X = np.arange(0,100,1)\n",
    "Y = X**(0.3)"
   ]
  },
  {
   "cell_type": "code",
   "execution_count": 4,
   "metadata": {
    "collapsed": false
   },
   "outputs": [
    {
     "data": {
      "text/plain": [
       "array([ 0,  1,  2,  3,  4,  5,  6,  7,  8,  9, 10, 11, 12, 13, 14, 15, 16,\n",
       "       17, 18, 19, 20, 21, 22, 23, 24, 25, 26, 27, 28, 29, 30, 31, 32, 33,\n",
       "       34, 35, 36, 37, 38, 39, 40, 41, 42, 43, 44, 45, 46, 47, 48, 49, 50,\n",
       "       51, 52, 53, 54, 55, 56, 57, 58, 59, 60, 61, 62, 63, 64, 65, 66, 67,\n",
       "       68, 69, 70, 71, 72, 73, 74, 75, 76, 77, 78, 79, 80, 81, 82, 83, 84,\n",
       "       85, 86, 87, 88, 89, 90, 91, 92, 93, 94, 95, 96, 97, 98, 99])"
      ]
     },
     "execution_count": 4,
     "metadata": {},
     "output_type": "execute_result"
    }
   ],
   "source": [
    "X"
   ]
  },
  {
   "cell_type": "code",
   "execution_count": 3,
   "metadata": {
    "collapsed": false
   },
   "outputs": [
    {
     "data": {
      "text/plain": [
       "array([ 0.        ,  1.        ,  1.23114441,  1.39038917,  1.51571657,\n",
       "        1.6206566 ,  1.71176986,  1.79278996,  1.86606598,  1.93318204,\n",
       "        1.99526231,  2.05313641,  2.1074359 ,  2.15865384,  2.20718335,\n",
       "        2.25334338,  2.29739671,  2.33956263,  2.38002627,  2.41894548,\n",
       "        2.45645605,  2.49267575,  2.52770743,  2.5616415 ,  2.59455793,\n",
       "        2.6265278 ,  2.65761462,  2.68787538,  2.71736145,  2.74611929,\n",
       "        2.77419111,  2.80161535,  2.82842712,  2.85465863,  2.88033947,\n",
       "        2.90549688,  2.93015605,  2.95434029,  2.97807122,  3.00136893,\n",
       "        3.02425215,  3.04673833,  3.06884382,  3.09058389,  3.11197288,\n",
       "        3.13302423,  3.15375062,  3.17416397,  3.19427551,  3.21409585,\n",
       "        3.23363503,  3.25290255,  3.27190739,  3.2906581 ,  3.30916276,\n",
       "        3.32742907,  3.34546436,  3.3632756 ,  3.38086943,  3.39825217,\n",
       "        3.41542989,  3.43240836,  3.44919309,  3.46578937,  3.48220225,\n",
       "        3.49843659,  3.51449703,  3.53038802,  3.54611384,  3.5616786 ,\n",
       "        3.57708625,  3.59234058,  3.60744525,  3.62240378,  3.63721954,\n",
       "        3.65189581,  3.66643574,  3.68084235,  3.69511859,  3.70926727,\n",
       "        3.72329113,  3.73719282,  3.75097488,  3.76463979,  3.77818993,\n",
       "        3.79162762,  3.80495509,  3.81817453,  3.83128802,  3.84429761,\n",
       "        3.85720528,  3.87001294,  3.88272246,  3.89533564,  3.90785424,\n",
       "        3.92027995,  3.93261444,  3.94485932,  3.95701615,  3.96908645])"
      ]
     },
     "execution_count": 3,
     "metadata": {},
     "output_type": "execute_result"
    }
   ],
   "source": [
    "Y"
   ]
  },
  {
   "cell_type": "code",
   "execution_count": 10,
   "metadata": {
    "collapsed": false
   },
   "outputs": [
    {
     "data": {
      "image/png": "[encoded data removed]",
      "text/plain": [
       "<matplotlib.figure.Figure at 0xa1d3e10>"
      ]
     },
     "metadata": {},
     "output_type": "display_data"
    }
   ],
   "source": [
    "%matplotlib inline\n",
    "plt.plot(X,Y)\n",
    "plt.show()"
   ]
  },
  {
   "cell_type": "markdown",
   "metadata": {
    "collapsed": true
   },
   "source": [
    "Here I am testing out Latex rendering: $\\mu + \\Sigma (1 + x_{hello})$"
   ]
  },
  {
   "cell_type": "code",
   "execution_count": null,
   "metadata": {
    "collapsed": true
   },
   "outputs": [],
   "source": []
  }
 ],
 "metadata": {
  "kernelspec": {
   "display_name": "Python 2",
   "language": "python",
   "name": "python2"
  },
  "language_info": {
   "codemirror_mode": {
    "name": "ipython",
    "version": 2
   },
   "file_extension": ".py",
   "mimetype": "text/x-python",
   "name": "python",
   "nbconvert_exporter": "python",
   "pygments_lexer": "ipython2",
   "version": "2.7.9"
  }
 },
 "nbformat": 4,
 "nbformat_minor": 0
}
