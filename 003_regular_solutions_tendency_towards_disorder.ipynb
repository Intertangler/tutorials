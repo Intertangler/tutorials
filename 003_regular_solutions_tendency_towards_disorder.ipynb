{
 "cells": [
  {
   "cell_type": "markdown",
   "metadata": {},
   "source": [
    "# The tendency toward disorder\n",
    "In this tutorial, we see the tendency of processes toward higher entropy by using a monte carlo simulation.\n",
    "\n",
    "First, let's start with the randomized lattice from earlier."
   ]
  },
  {
   "cell_type": "code",
   "execution_count": 243,
   "metadata": {
    "collapsed": false
   },
   "outputs": [
    {
     "name": "stdout",
     "output_type": "stream",
     "text": [
      "m_1, m_2, m_sites = 198 202 400\n"
     ]
    },
    {
     "data": {
      "text/plain": [
       "3.8834744412156037e-21"
      ]
     },
     "execution_count": 243,
     "metadata": {},
     "output_type": "execute_result"
    },
    {
     "data": {
      "image/png": "[encoded data removed]",
      "text/plain": [
       "<matplotlib.figure.Figure at 0x7f4277801c10>"
      ]
     },
     "metadata": {},
     "output_type": "display_data"
    }
   ],
   "source": [
    "%matplotlib inline\n",
    "from __future__ import division\n",
    "import numpy as np\n",
    "import matplotlib.pyplot as plt\n",
    "from random import random\n",
    "\n",
    "lattice_width = 20\n",
    "lattice_height = 20\n",
    "m_sites = lattice_width*lattice_height\n",
    "lattice = np.zeros((lattice_height,lattice_width))\n",
    "m1_to_m2_ratio = 0.5\n",
    "\n",
    "m_1 = 0\n",
    "m_2 = 0\n",
    "\n",
    "for i in range(0,lattice_height):\n",
    "    for j in range(0,lattice_width):\n",
    "        random_number = random()\n",
    "        if random_number > m1_to_m2_ratio:\n",
    "            lattice[i,j] = 1\n",
    "            m_1 += 1\n",
    "        else:\n",
    "            lattice[i,j] = 2\n",
    "            m_2 += 1\n",
    "print 'm_1, m_2, m_sites =', m_1, m_2, m_sites\n",
    "plt.imshow(lattice,cmap=\"Greys\",interpolation='None')\n",
    "k_boltzmann = 1.38064852e-23 #m2 kg s-2 K-1\n",
    "S_m = -1*k_boltzmann*(m_1*np.log(m_1/m_sites)+m_2*np.log(m_1/m_sites))\n",
    "S_m"
   ]
  },
  {
   "cell_type": "markdown",
   "metadata": {},
   "source": [
    "## The unmixed macrostate\n",
    "Now, let's take this lattice and artificially order it. We will use the same number of state 1 and state 2 particles as with our randomized lattice, but this time we will group them together. Let's call this the \"unmixed\" macrostate. \n",
    "\n",
    "Let us ignore the enthalpy of mixing for this demonstration. This would be like tracking two molecules of the same type but with arbirtrary labels that allow us to distinguish them from each other. "
   ]
  },
  {
   "cell_type": "code",
   "execution_count": 244,
   "metadata": {
    "collapsed": false
   },
   "outputs": [
    {
     "data": {
      "text/plain": [
       "<matplotlib.image.AxesImage at 0x7f42775754d0>"
      ]
     },
     "execution_count": 244,
     "metadata": {},
     "output_type": "execute_result"
    },
    {
     "data": {
      "image/png": "[encoded data removed]",
      "text/plain": [
       "<matplotlib.figure.Figure at 0x7f4277746590>"
      ]
     },
     "metadata": {},
     "output_type": "display_data"
    }
   ],
   "source": [
    "def reset(lattice_height,lattice_width):\n",
    "    lattice2 = np.zeros((lattice_height,lattice_width))\n",
    "    counter = 0\n",
    "    for i in range(0,lattice_height):\n",
    "        for j in range(0,lattice_width):\n",
    "            if counter <= m_1:\n",
    "                lattice2[i,j] = 1\n",
    "                counter += 1\n",
    "            else:\n",
    "                lattice2[i,j] = 2\n",
    "                counter += 1\n",
    "    return lattice2\n",
    "lattice2 = reset(lattice_height,lattice_width)\n",
    "plt.imshow(lattice2,cmap=\"Greys\",interpolation='None')\n",
    "\n"
   ]
  },
  {
   "cell_type": "markdown",
   "metadata": {},
   "source": [
    "## Monte Carlo mixing of the unmixed lattice\n",
    "Great, so now that we have our unmixed lattice, let's randomly pick sites in the lattice and exchange them with a randomly chosen nearest neighbor either above, below, left, or right of the chosen site.\n",
    "\n",
    "For this we will assume a periodic boundary condition - that is, the edges of the lattice are neighbors of the opposite edge. "
   ]
  },
  {
   "cell_type": "code",
   "execution_count": 245,
   "metadata": {
    "collapsed": false
   },
   "outputs": [
    {
     "data": {
      "text/plain": [
       "<matplotlib.image.AxesImage at 0x7f4277813e50>"
      ]
     },
     "execution_count": 245,
     "metadata": {},
     "output_type": "execute_result"
    },
    {
     "data": {
      "image/png": "[encoded data removed]",
      "text/plain": [
       "<matplotlib.figure.Figure at 0x7f42775a6f50>"
      ]
     },
     "metadata": {},
     "output_type": "display_data"
    }
   ],
   "source": [
    "from random import choice\n",
    "def mix(iterations,lattice): #we will iterate single particle swaps this many times\n",
    "    lattice2 = lattice\n",
    "    iterations = iterations\n",
    "    energy=1 #for later - a cond. for deciding if the new state is better than previous\n",
    "    condition = 0 # condition for above statement\n",
    "    for iterate in range(0,iterations):\n",
    "        random_x_direction = choice([-1,1]) #pick a random direction to search for nrst. nbr\n",
    "        random_y_direction = choice([-1,1]) #       \"\n",
    "        target_x_coordinate = choice(range(0,lattice_width-1)) # choose a random cell\n",
    "        target_y_coordinate = choice(range(0,lattice_height-1))\n",
    "        neighbor_x_coordinate = (target_x_coordinate + random_x_direction)%lattice_width\n",
    "        #we use modulo on this line for the periodic boundary condition\n",
    "        neighbor_y_coordinate = (target_y_coordinate + random_y_direction)%lattice_height\n",
    "        target_value = lattice2[target_x_coordinate, target_y_coordinate]\n",
    "        neighbor_value = lattice2[neighbor_x_coordinate, neighbor_y_coordinate]\n",
    "        if energy > condition: # perform the swap!\n",
    "            lattice2[target_x_coordinate, target_y_coordinate] = neighbor_value\n",
    "            lattice2[neighbor_x_coordinate, neighbor_y_coordinate] = target_value\n",
    "        else:\n",
    "            pass            \n",
    "    return lattice2 #get back the lattice after several swaps\n",
    "lattice2 = mix(100,lattice2)\n",
    "plt.imshow(lattice2,cmap=\"Greys\",interpolation='None')\n",
    "\n"
   ]
  },
  {
   "cell_type": "code",
   "execution_count": 246,
   "metadata": {
    "collapsed": false
   },
   "outputs": [
    {
     "data": {
      "text/plain": [
       "<matplotlib.image.AxesImage at 0x7f4277514f50>"
      ]
     },
     "execution_count": 246,
     "metadata": {},
     "output_type": "execute_result"
    },
    {
     "data": {
      "image/png": "[encoded data removed]",
      "text/plain": [
       "<matplotlib.figure.Figure at 0x7f4277750550>"
      ]
     },
     "metadata": {},
     "output_type": "display_data"
    }
   ],
   "source": [
    "lattice2 = mix(100,lattice2)\n",
    "plt.imshow(lattice2,cmap=\"Greys\",interpolation='None')"
   ]
  },
  {
   "cell_type": "code",
   "execution_count": 247,
   "metadata": {
    "collapsed": false
   },
   "outputs": [
    {
     "data": {
      "text/plain": [
       "<matplotlib.image.AxesImage at 0x7f4277445450>"
      ]
     },
     "execution_count": 247,
     "metadata": {},
     "output_type": "execute_result"
    },
    {
     "data": {
      "image/png": "[encoded data removed]",
      "text/plain": [
       "<matplotlib.figure.Figure at 0x7f427763a110>"
      ]
     },
     "metadata": {},
     "output_type": "display_data"
    }
   ],
   "source": [
    "lattice2 = mix(100,lattice2)\n",
    "plt.imshow(lattice2,cmap=\"Greys\",interpolation='None')"
   ]
  },
  {
   "cell_type": "code",
   "execution_count": 248,
   "metadata": {
    "collapsed": false
   },
   "outputs": [
    {
     "data": {
      "text/plain": [
       "<matplotlib.image.AxesImage at 0x7f4277369850>"
      ]
     },
     "execution_count": 248,
     "metadata": {},
     "output_type": "execute_result"
    },
    {
     "data": {
      "image/png": "[encoded data removed]",
      "text/plain": [
       "<matplotlib.figure.Figure at 0x7f4277478d90>"
      ]
     },
     "metadata": {},
     "output_type": "display_data"
    }
   ],
   "source": [
    "lattice2 = mix(1000,lattice2)\n",
    "plt.imshow(lattice2,cmap=\"Greys\",interpolation='None')"
   ]
  },
  {
   "cell_type": "code",
   "execution_count": 249,
   "metadata": {
    "collapsed": false
   },
   "outputs": [
    {
     "data": {
      "text/plain": [
       "<matplotlib.image.AxesImage at 0x7f427730cc50>"
      ]
     },
     "execution_count": 249,
     "metadata": {},
     "output_type": "execute_result"
    },
    {
     "data": {
      "image/png": "[encoded data removed]",
      "text/plain": [
       "<matplotlib.figure.Figure at 0x7f42773a9210>"
      ]
     },
     "metadata": {},
     "output_type": "display_data"
    }
   ],
   "source": [
    "lattice2 = mix(5000,lattice2)\n",
    "plt.imshow(lattice2,cmap=\"Greys\",interpolation='None')"
   ]
  },
  {
   "cell_type": "markdown",
   "metadata": {
    "collapsed": true
   },
   "source": [
    "Let's characterize the trajectory. We can look at each cell, and check if its 4 nearest neighbors match its identity. A high amount of matching should correspond to a very ordered system, and a lot of mismatch means it is more disordered, randomized, closer to a uniform distribution etc. "
   ]
  },
  {
   "cell_type": "code",
   "execution_count": 252,
   "metadata": {
    "collapsed": false
   },
   "outputs": [
    {
     "data": {
      "text/plain": [
       "<matplotlib.text.Text at 0x7f4277142250>"
      ]
     },
     "execution_count": 252,
     "metadata": {},
     "output_type": "execute_result"
    },
    {
     "data": {
      "image/png": "[encoded data removed]",
      "text/plain": [
       "<matplotlib.figure.Figure at 0x7f427726e8d0>"
      ]
     },
     "metadata": {},
     "output_type": "display_data"
    }
   ],
   "source": [
    "def trajectory(iterations):\n",
    "    lattice3 = reset(lattice_height,lattice_width)\n",
    "    trajectory = np.zeros((iterations))\n",
    "    for t in range(0,iterations):\n",
    "        number_of_mismatch_edges = 0\n",
    "        number_of_matching_edges = 0\n",
    "        deg_of_mixing = 0\n",
    "        # below we scan the lattice and look right, and below for each cell\n",
    "        #periodic bond cond means that scanning every cell like this will get every interface\n",
    "        for i in range(0,lattice_height):\n",
    "            for j in range(0,lattice_width):                \n",
    "                #find the nearest neighbors - use modulo to enforce periodic bound. cond.\n",
    "                \n",
    "                #examine edge to the right of current cell\n",
    "                if lattice3[((i+0)%lattice_height),((j+1)%lattice_width)] == lattice3[i,j]: \n",
    "                    number_of_matching_edges += 1\n",
    "                else: \n",
    "                    number_of_mismatch_edges += 1\n",
    "                #examine edge beneath the current cell\n",
    "                if lattice3[((i-1)%lattice_height),((j+0)%lattice_width)] == lattice3[i,j]:\n",
    "                    number_of_matching_edges += 1\n",
    "                else: \n",
    "                    number_of_mismatch_edges += 1\n",
    "#                 print number_of_mismatch_edges\n",
    "        deg_of_mixing = number_of_mismatch_edges/number_of_matching_edges\n",
    "        trajectory[t] = deg_of_mixing\n",
    "        lattice3 = mix(1,lattice3)\n",
    "    return trajectory\n",
    "iterations=20000\n",
    "trajectory = trajectory(iterations)\n",
    "plt.plot(np.arange(iterations),trajectory,color='black')\n",
    "plt.xlabel('t')\n",
    "plt.ylabel('degree of mixing')\n",
    "\n"
   ]
  },
  {
   "cell_type": "markdown",
   "metadata": {},
   "source": [
    "As we can see, the system reaches a maximally mixed state after a while and stops changing. This is the stationary distribution, or the point where the rates of transitions from one microstate to another are balanced out. \n",
    "\n",
    "In this tutorial, we ignored the effects of enthalpy, essentially treating the two species like identical molecule types. In the next tutorial however, we will examine enthalpic effects on a regular solution. "
   ]
  },
  {
   "cell_type": "code",
   "execution_count": null,
   "metadata": {
    "collapsed": true
   },
   "outputs": [],
   "source": []
  }
 ],
 "metadata": {
  "kernelspec": {
   "display_name": "Python 2",
   "language": "python",
   "name": "python2"
  },
  "language_info": {
   "codemirror_mode": {
    "name": "ipython",
    "version": 2
   },
   "file_extension": ".py",
   "mimetype": "text/x-python",
   "name": "python",
   "nbconvert_exporter": "python",
   "pygments_lexer": "ipython2",
   "version": "2.7.6"
  }
 },
 "nbformat": 4,
 "nbformat_minor": 0
}
