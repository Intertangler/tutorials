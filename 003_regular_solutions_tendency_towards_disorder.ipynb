{
 "cells": [
  {
   "cell_type": "markdown",
   "metadata": {},
   "source": [
    "# The tendency toward disorder\n",
    "In this tutorial, we see the tendency of processes toward higher entropy by using a monte carlo simulation.\n",
    "\n",
    "First, let's start with the randomized lattice from earlier."
   ]
  },
  {
   "cell_type": "code",
   "execution_count": 163,
   "metadata": {
    "collapsed": false
   },
   "outputs": [
    {
     "name": "stdout",
     "output_type": "stream",
     "text": [
      "m_1, m_2, m_sites = 295 105 400\n"
     ]
    },
    {
     "data": {
      "text/plain": [
       "1.6815702023602425e-21"
      ]
     },
     "execution_count": 163,
     "metadata": {},
     "output_type": "execute_result"
    },
    {
     "data": {
      "image/png": "[encoded data removed]",
      "text/plain": [
       "<matplotlib.figure.Figure at 0x7fec19a02210>"
      ]
     },
     "metadata": {},
     "output_type": "display_data"
    }
   ],
   "source": [
    "%matplotlib inline\n",
    "from __future__ import division\n",
    "import numpy as np\n",
    "import matplotlib.pyplot as plt\n",
    "from random import random\n",
    "\n",
    "lattice_width = 20\n",
    "lattice_height = 20\n",
    "m_sites = lattice_width*lattice_height\n",
    "lattice = np.zeros((lattice_height,lattice_width))\n",
    "\n",
    "m_1 = 0\n",
    "m_2 = 0\n",
    "\n",
    "for i in range(0,lattice_height):\n",
    "    for j in range(0,lattice_width):\n",
    "        random_number = random()\n",
    "        if random_number > 0.25:\n",
    "            lattice[i,j] = 1\n",
    "            m_1 += 1\n",
    "        else:\n",
    "            lattice[i,j] = 2\n",
    "            m_2 += 1\n",
    "print 'm_1, m_2, m_sites =', m_1, m_2, m_sites\n",
    "plt.imshow(lattice,cmap=\"Greys\",interpolation='None')\n",
    "k_boltzmann = 1.38064852e-23 #m2 kg s-2 K-1\n",
    "S_m = -1*k_boltzmann*(m_1*np.log(m_1/m_sites)+m_2*np.log(m_1/m_sites))\n",
    "S_m"
   ]
  },
  {
   "cell_type": "markdown",
   "metadata": {},
   "source": [
    "## The unmixed macrostate\n",
    "Now, let's take this lattice and artificially order it. We will use the same number of state 1 and state 2 particles as with our randomized lattice, but this time we will group them together. Let's call this the \"unmixed\" macrostate. "
   ]
  },
  {
   "cell_type": "code",
   "execution_count": 164,
   "metadata": {
    "collapsed": false
   },
   "outputs": [
    {
     "data": {
      "text/plain": [
       "<matplotlib.image.AxesImage at 0x7fec198a5a90>"
      ]
     },
     "execution_count": 164,
     "metadata": {},
     "output_type": "execute_result"
    },
    {
     "data": {
      "image/png": "[encoded data removed]",
      "text/plain": [
       "<matplotlib.figure.Figure at 0x7fec19a77f10>"
      ]
     },
     "metadata": {},
     "output_type": "display_data"
    }
   ],
   "source": [
    "lattice2 = np.zeros((lattice_height,lattice_width))\n",
    "counter = 0\n",
    "for i in range(0,lattice_height):\n",
    "    for j in range(0,lattice_width):\n",
    "        if counter <= m_1:\n",
    "            lattice2[i,j] = 1\n",
    "            counter += 1\n",
    "        else:\n",
    "            lattice2[i,j] = 2\n",
    "            counter += 1\n",
    "plt.imshow(lattice2,cmap=\"Greys\",interpolation='None')"
   ]
  },
  {
   "cell_type": "markdown",
   "metadata": {},
   "source": [
    "## Monte Carlo mixing of the unmixed lattice\n",
    "Great, so now that we have our unmixed lattice, let's randomly pick sites in the lattice and exchange them with a randomly chosen nearest neighbor either above, below, left, or right of the chosen site.\n",
    "\n",
    "For this we will assume a periodic boundary condition - that is, the edges of the lattice are neighbors of the opposite edge. "
   ]
  },
  {
   "cell_type": "code",
   "execution_count": 165,
   "metadata": {
    "collapsed": false
   },
   "outputs": [
    {
     "data": {
      "text/plain": [
       "<matplotlib.image.AxesImage at 0x7fec19949750>"
      ]
     },
     "execution_count": 165,
     "metadata": {},
     "output_type": "execute_result"
    },
    {
     "data": {
      "image/png": "[encoded data removed]",
      "text/plain": [
       "<matplotlib.figure.Figure at 0x7fec1a336910>"
      ]
     },
     "metadata": {},
     "output_type": "display_data"
    }
   ],
   "source": [
    "from random import choice\n",
    "from matplotlib import animation\n",
    "\n",
    "\n",
    "def mix(iterations):\n",
    "    iterations = iterations\n",
    "    energy=1\n",
    "    condition = 0\n",
    "    for iterate in range(0,iterations):\n",
    "        random_x_direction = choice([-1,1])\n",
    "        random_y_direction = choice([-1,1])\n",
    "        target_x_coordinate = choice(range(0,lattice_width-1))\n",
    "        target_y_coordinate = choice(range(0,lattice_height-1))\n",
    "        neighbor_x_coordinate = target_x_coordinate + random_x_direction\n",
    "        neighbor_y_coordinate = target_y_coordinate + random_y_direction\n",
    "        target_value = lattice2[target_x_coordinate, target_y_coordinate]\n",
    "        neighbor_value = lattice2[neighbor_x_coordinate, neighbor_y_coordinate]\n",
    "        if energy > condition:\n",
    "            lattice2[target_x_coordinate, target_y_coordinate] = neighbor_value\n",
    "            lattice2[neighbor_x_coordinate, neighbor_y_coordinate] = target_value\n",
    "        else:\n",
    "            pass            \n",
    "    return plt.imshow(lattice2,cmap=\"Greys\",interpolation='None')\n",
    "\n",
    "mix(100)\n"
   ]
  },
  {
   "cell_type": "code",
   "execution_count": 166,
   "metadata": {
    "collapsed": false
   },
   "outputs": [
    {
     "data": {
      "text/plain": [
       "<matplotlib.image.AxesImage at 0x7fec19844b50>"
      ]
     },
     "execution_count": 166,
     "metadata": {},
     "output_type": "execute_result"
    },
    {
     "data": {
      "image/png": "[encoded data removed]",
      "text/plain": [
       "<matplotlib.figure.Figure at 0x7fec19a81450>"
      ]
     },
     "metadata": {},
     "output_type": "display_data"
    }
   ],
   "source": [
    "mix(200)"
   ]
  },
  {
   "cell_type": "code",
   "execution_count": 167,
   "metadata": {
    "collapsed": false
   },
   "outputs": [
    {
     "data": {
      "text/plain": [
       "<matplotlib.image.AxesImage at 0x7fec19766f50>"
      ]
     },
     "execution_count": 167,
     "metadata": {},
     "output_type": "execute_result"
    },
    {
     "data": {
      "image/png": "[encoded data removed]",
      "text/plain": [
       "<matplotlib.figure.Figure at 0x7fec19a8b450>"
      ]
     },
     "metadata": {},
     "output_type": "display_data"
    }
   ],
   "source": [
    "mix(400)"
   ]
  },
  {
   "cell_type": "code",
   "execution_count": 168,
   "metadata": {
    "collapsed": false
   },
   "outputs": [
    {
     "data": {
      "text/plain": [
       "<matplotlib.image.AxesImage at 0x7fec19697390>"
      ]
     },
     "execution_count": 168,
     "metadata": {},
     "output_type": "execute_result"
    },
    {
     "data": {
      "image/png": "[encoded data removed]",
      "text/plain": [
       "<matplotlib.figure.Figure at 0x7fec1978ab10>"
      ]
     },
     "metadata": {},
     "output_type": "display_data"
    }
   ],
   "source": [
    "mix(800)"
   ]
  },
  {
   "cell_type": "code",
   "execution_count": 169,
   "metadata": {
    "collapsed": false
   },
   "outputs": [
    {
     "data": {
      "text/plain": [
       "<matplotlib.image.AxesImage at 0x7fec1963a7d0>"
      ]
     },
     "execution_count": 169,
     "metadata": {},
     "output_type": "execute_result"
    },
    {
     "data": {
      "image/png": "[encoded data removed]",
      "text/plain": [
       "<matplotlib.figure.Figure at 0x7fec196d5fd0>"
      ]
     },
     "metadata": {},
     "output_type": "display_data"
    }
   ],
   "source": [
    "mix(1600)"
   ]
  },
  {
   "cell_type": "code",
   "execution_count": null,
   "metadata": {
    "collapsed": true
   },
   "outputs": [],
   "source": []
  }
 ],
 "metadata": {
  "kernelspec": {
   "display_name": "Python 2",
   "language": "python",
   "name": "python2"
  },
  "language_info": {
   "codemirror_mode": {
    "name": "ipython",
    "version": 2
   },
   "file_extension": ".py",
   "mimetype": "text/x-python",
   "name": "python",
   "nbconvert_exporter": "python",
   "pygments_lexer": "ipython2",
   "version": "2.7.6"
  }
 },
 "nbformat": 4,
 "nbformat_minor": 0
}
